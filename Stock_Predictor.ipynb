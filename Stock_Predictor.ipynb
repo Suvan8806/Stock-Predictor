{
  "nbformat": 4,
  "nbformat_minor": 0,
  "metadata": {
    "colab": {
      "provenance": []
    },
    "kernelspec": {
      "name": "python3",
      "display_name": "Python 3"
    },
    "language_info": {
      "name": "python"
    }
  },
  "cells": [
    {
      "cell_type": "markdown",
      "source": [
        "Download your stock's financial history as a csv and uploade to files, Please ensure it has an Index, date and close (case sensitive).\n",
        "Then update the filename below and run all."
      ],
      "metadata": {
        "id": "GCWTq5zNa-W2"
      }
    },
    {
      "cell_type": "code",
      "source": [
        "import pandas as pd\n",
        "\n",
        "df = pd.read_csv(\"yourfilename.csv\")\n",
        "\n",
        "df"
      ],
      "metadata": {
        "id": "F6OZOOVqDzBn",
        "collapsed": true
      },
      "execution_count": null,
      "outputs": []
    },
    {
      "cell_type": "code",
      "source": [
        "df = df[['date', 'close']]\n",
        "\n",
        "df"
      ],
      "metadata": {
        "id": "uWpuD2D-mAyM",
        "collapsed": true
      },
      "execution_count": null,
      "outputs": []
    },
    {
      "cell_type": "code",
      "source": [
        "df['date']"
      ],
      "metadata": {
        "id": "8mejn7xAmH1V",
        "collapsed": true
      },
      "execution_count": null,
      "outputs": []
    },
    {
      "cell_type": "code",
      "source": [
        "import datetime\n",
        "\n",
        "def temp(s):\n",
        "  split = s.split(\"/\")\n",
        "  month, day, year = int(split[0]), int(split[1]), int(split[2])\n",
        "  return datetime.datetime(year = year, month = month, day = day)\n",
        "df['date'] = df['date'].apply(temp)\n",
        "\n",
        "def str_to_datetime(s):\n",
        "  split = s.split('-')\n",
        "  year, month, day = int(split[0]), int(split[1]), int(split[2])\n",
        "  return datetime.datetime(year=year, month=month, day=day)\n",
        "\n",
        "datetime_object = str_to_datetime('1986-03-19')\n",
        "datetime_object"
      ],
      "metadata": {
        "id": "-e2fN5vsE-LG",
        "collapsed": true
      },
      "execution_count": null,
      "outputs": []
    },
    {
      "cell_type": "code",
      "source": [
        "\n",
        "df"
      ],
      "metadata": {
        "id": "YUB3S9lUFo6h",
        "collapsed": true
      },
      "execution_count": null,
      "outputs": []
    },
    {
      "cell_type": "code",
      "source": [
        "df.index = df.pop(\"date\")\n",
        "df"
      ],
      "metadata": {
        "id": "xky--PKiKpLG"
      },
      "execution_count": null,
      "outputs": []
    },
    {
      "cell_type": "markdown",
      "source": [
        "flip it so you get from old to newest"
      ],
      "metadata": {
        "id": "RcURoCdjnENo"
      }
    },
    {
      "cell_type": "code",
      "source": [
        "df = df.sort_values(by='date', ascending=True)\n",
        "df"
      ],
      "metadata": {
        "id": "b2twJTy0nJhU"
      },
      "execution_count": null,
      "outputs": []
    },
    {
      "cell_type": "markdown",
      "source": [],
      "metadata": {
        "id": "7OxT882VqH7w"
      }
    },
    {
      "cell_type": "markdown",
      "source": [
        "Until now I downloaded the Microsoft stock history, filtered it for just the date and close value, and changed the date format uding Pandas. Now it's time to use Matlab to plot it.\n"
      ],
      "metadata": {
        "id": "Y4E3q90fSGaB"
      }
    },
    {
      "cell_type": "code",
      "source": [
        "import matplotlib.pyplot as plt\n",
        "\n",
        "plt.plot(df.index,  df['close'])"
      ],
      "metadata": {
        "id": "W8OFeFbXSSFE"
      },
      "execution_count": null,
      "outputs": []
    },
    {
      "cell_type": "markdown",
      "source": [
        "Convert to a supervised learning problem as we're using LSTM's"
      ],
      "metadata": {
        "id": "KbOtKUB6hGYb"
      }
    },
    {
      "cell_type": "code",
      "source": [
        "import numpy as np\n",
        "\n",
        "def df_to_windowed_df(dataframe, first_date_str, last_date_str, n=15):\n",
        "  first_date = str_to_datetime(first_date_str)\n",
        "  last_date  = str_to_datetime(last_date_str)\n",
        "\n",
        "  target_date = first_date\n",
        "\n",
        "  dates = []\n",
        "  X, Y = [], []\n",
        "\n",
        "  last_time = False\n",
        "  while True:\n",
        "    df_subset = dataframe.loc[:target_date].tail(n+1)\n",
        "\n",
        "    if len(df_subset) != n+1:\n",
        "      print(f'Error: Window of size {n} is too large for date {target_date}')\n",
        "      return\n",
        "\n",
        "    values = df_subset['close'].to_numpy()\n",
        "    x, y = values[:-1], values[-1]\n",
        "\n",
        "    dates.append(target_date)\n",
        "    X.append(x)\n",
        "    Y.append(y)\n",
        "\n",
        "    next_week = dataframe.loc[target_date:target_date+datetime.timedelta(days=7)]\n",
        "    next_datetime_str = str(next_week.head(2).tail(1).index.values[0])\n",
        "    next_date_str = next_datetime_str.split('T')[0]\n",
        "    year_month_day = next_date_str.split('-')\n",
        "    year, month, day = year_month_day\n",
        "    next_date = datetime.datetime(day=int(day), month=int(month), year=int(year))\n",
        "\n",
        "    if last_time:\n",
        "      break\n",
        "\n",
        "    target_date = next_date\n",
        "\n",
        "    if target_date == last_date:\n",
        "      last_time = True\n",
        "\n",
        "  ret_df = pd.DataFrame({})\n",
        "  ret_df['Target Date'] = dates\n",
        "\n",
        "  X = np.array(X)\n",
        "  for i in range(0, n):\n",
        "    X[:, i]\n",
        "    ret_df[f'Target-{n-i}'] = X[:, i]\n",
        "\n",
        "  ret_df['Target'] = Y\n",
        "\n",
        "  return ret_df\n",
        "\n",
        "# Start day second time around: '2021-03-25'\n",
        "windowed_df = df_to_windowed_df(df,\n",
        "                                '2020-11-25\t',\n",
        "                                '2024-11-15',\n",
        "                                n=15)\n",
        "windowed_df"
      ],
      "metadata": {
        "id": "PgwtzRwshJ3d"
      },
      "execution_count": null,
      "outputs": []
    },
    {
      "cell_type": "markdown",
      "source": [
        "Now, we have a date and the cost of the stock at target, and we have the price upto 3 days ago as well all stored in one windowed panda. So now we can use the previous 3 days to see how it let upto the target date, and train the model."
      ],
      "metadata": {
        "id": "gok2XnJ9qMLm"
      }
    },
    {
      "cell_type": "code",
      "source": [
        "def windowed_df_to_date_X_y(windowed_dataframe):\n",
        "  df_as_np = windowed_dataframe.to_numpy()\n",
        "\n",
        "  dates = df_as_np[:, 0]\n",
        "\n",
        "  middle_matrix = df_as_np[:, 1:-1]\n",
        "  X = middle_matrix.reshape((len(dates), middle_matrix.shape[1], 1))\n",
        "\n",
        "  Y = df_as_np[:, -1]\n",
        "\n",
        "  return dates, X.astype(np.float32), Y.astype(np.float32)\n",
        "\n",
        "dates, X, y = windowed_df_to_date_X_y(windowed_df)\n",
        "\n",
        "dates.shape, X.shape, y.shape"
      ],
      "metadata": {
        "id": "rAjSOVtaqYXZ"
      },
      "execution_count": null,
      "outputs": []
    },
    {
      "cell_type": "markdown",
      "source": [
        "Split the data into train validation and testing partitions"
      ],
      "metadata": {
        "id": "NiIx4UFArsNx"
      }
    },
    {
      "cell_type": "code",
      "source": [
        "q_80 = int(len(dates) * .9) #Train until here\n",
        "q_90 = int(len(dates) * .95) #validate until here\n",
        "                            #Test for final 10%\n",
        "\n",
        "dates_train, X_train, y_train = dates[:q_80], X[:q_80], y[:q_80]\n",
        "\n",
        "dates_val, X_val, y_val = dates[q_80:q_90], X[q_80:q_90], y[q_80:q_90]\n",
        "dates_test, X_test, y_test = dates[q_90:], X[q_90:], y[q_90:]\n",
        "\n",
        "plt.plot(dates_train, y_train)\n",
        "plt.plot(dates_val, y_val)\n",
        "plt.plot(dates_test, y_test)\n",
        "\n",
        "plt.legend(['Train', 'Validation', 'Test'])"
      ],
      "metadata": {
        "id": "3RrMuP_nry7Z"
      },
      "execution_count": null,
      "outputs": []
    },
    {
      "cell_type": "markdown",
      "source": [
        "Time to train and validate our tensorflow model"
      ],
      "metadata": {
        "id": "j3G3HEQXutGc"
      }
    },
    {
      "cell_type": "code",
      "source": [
        "from tensorflow.keras.models import Sequential #Buliding a Sequential model\n",
        "from tensorflow.keras.optimizers import Adam #Optimizer\n",
        "from tensorflow.keras import layers\n",
        "\n",
        "model = Sequential([\n",
        "    layers.Input((15, 1)),\n",
        "    layers.LSTM(64),\n",
        "    layers.Dense(32, activation='relu'),\n",
        "    layers.Dense(32, activation='relu'),\n",
        "    layers.Dense(1)\n",
        "])\n",
        "model.compile(loss='mse',\n",
        "              optimizer=Adam(learning_rate=0.001),\n",
        "              metrics=['mean_absolute_error'])\n",
        "model.fit(X_train, y_train, validation_data=(X_val, y_val), epochs=200)"
      ],
      "metadata": {
        "id": "uLrpBzV4un8Y"
      },
      "execution_count": null,
      "outputs": []
    },
    {
      "cell_type": "code",
      "source": [
        "train_predictions = model.predict(X_train).flatten()\n",
        "plt. plot(dates_train, train_predictions)\n",
        "plt.plot(dates_train, y_train)\n",
        "plt.legend(['Training Predictions', 'Training Observations'])"
      ],
      "metadata": {
        "id": "Sx8GhSq7-r3h"
      },
      "execution_count": null,
      "outputs": []
    },
    {
      "cell_type": "code",
      "source": [
        "val_predictions = model.predict(X_val).flatten()\n",
        "plt. plot(dates_val, val_predictions)\n",
        "plt.plot(dates_val, y_val)\n",
        "plt.legend(['Validation Predictions', 'Validation Observations'])"
      ],
      "metadata": {
        "id": "hpmldD8m-9wu"
      },
      "execution_count": null,
      "outputs": []
    },
    {
      "cell_type": "code",
      "source": [
        "test_predictions = model.predict(X_test).flatten()\n",
        "\n",
        "plt.plot(dates_test, test_predictions)\n",
        "plt.plot(dates_test, y_test)\n",
        "plt.legend(['Testing Predictions', 'Testing Observations'])"
      ],
      "metadata": {
        "id": "rtQYRbm1_Zq6"
      },
      "execution_count": null,
      "outputs": []
    },
    {
      "cell_type": "code",
      "source": [
        "plt.plot(dates_train, train_predictions)\n",
        "plt.plot(dates_train, y_train)\n",
        "plt.plot(dates_val, val_predictions)\n",
        "plt.plot(dates_val, y_val)\n",
        "plt.plot(dates_test, test_predictions)\n",
        "plt.plot(dates_test, y_test)\n",
        "plt.legend(['Training Predictions',\n",
        "            'Training Observations',\n",
        "            'Validation Predictions',\n",
        "            'Validation Observations',\n",
        "            'Testing Predictions',\n",
        "            'Testing Observations'])"
      ],
      "metadata": {
        "id": "1uxoWuEf_gAl"
      },
      "execution_count": null,
      "outputs": []
    },
    {
      "cell_type": "markdown",
      "source": [
        "LSTM Can't extrapolate data well. (Extrapolate means predict data out of the time zone or outside your field of knowledge, create prediction) The LSTM Is only good at data it is familiar with."
      ],
      "metadata": {
        "id": "K7vAXdnt_xSM"
      }
    },
    {
      "cell_type": "code",
      "source": [
        "import datetime\n",
        "import matplotlib.dates as mdates\n",
        "\n",
        "def predict_next_month(model, last_n_days, num_days=15):\n",
        "    \"\"\"\n",
        "    Predicts the stock price for the next month, day by day.\n",
        "\n",
        "    Args:\n",
        "        model: The trained LSTM model.\n",
        "        last_n_days: The last 'n' days of data used for the initial prediction.\n",
        "        num_days: The number of days to predict (default: 30).\n",
        "\n",
        "    Returns:\n",
        "        A tuple containing the predicted dates and prices.\n",
        "    \"\"\"\n",
        "\n",
        "    predictions = []\n",
        "    current_date = dates_test[-1] + datetime.timedelta(days=1)  # Start from the day after the last test date\n",
        "    input_data = last_n_days.reshape(1, last_n_days.shape[0], 1)  # Reshape for model input\n",
        "\n",
        "    for _ in range(num_days):\n",
        "        prediction = model.predict(input_data)[0, 0]  # Predict next day's price\n",
        "        predictions.append(prediction)\n",
        "\n",
        "        # Update input data with the prediction for the next iteration\n",
        "        input_data = np.roll(input_data, -1, axis=1)  # Shift data one day back\n",
        "        input_data[0, -1, 0] = prediction  # Replace last value with prediction\n",
        "\n",
        "        current_date += datetime.timedelta(days=1)\n",
        "\n",
        "    predicted_dates = [dates_test[-1] + datetime.timedelta(days=i + 1) for i in range(num_days)]\n",
        "\n",
        "    return predicted_dates, predictions\n",
        "\n",
        "# Get the last 15 days of data from the test set\n",
        "last_15_days = X_test[-1, :, 0]\n",
        "\n",
        "# Predict for the next 30 days\n",
        "predicted_dates, predicted_prices = predict_next_month(model, last_15_days)\n",
        "\n",
        "# Plot the predicted data\n",
        "plt.plot(predicted_dates, predicted_prices, label='Predicted')\n",
        "plt.xlabel('Date')\n",
        "plt.gca().xaxis.set_major_formatter(mdates.DateFormatter('%d'))\n",
        "plt.ylabel('Stock Price')\n",
        "plt.title('Next 15 days Prediction')\n",
        "plt.legend()\n",
        "plt.show()"
      ],
      "metadata": {
        "id": "sDoj1r34_0cm"
      },
      "execution_count": null,
      "outputs": []
    },
    {
      "cell_type": "code",
      "source": [
        "test_predictions = []\n",
        "input_data = X_test[0, :, 0]  # Start with the first 15 days of the test set\n",
        "\n",
        "for i in range(len(dates_test)):\n",
        "  # Reshape for model input\n",
        "  input_data_reshaped = input_data.reshape(1, input_data.shape[0], 1)\n",
        "\n",
        "  # Predict\n",
        "  prediction = model.predict(input_data_reshaped)[0, 0]\n",
        "  test_predictions.append(prediction)\n",
        "\n",
        "  # Update input data\n",
        "  input_data = np.roll(input_data, -1)  # Shift one step back\n",
        "  input_data[-1] = prediction  # Replace last value with prediction\n",
        "\n",
        "# Convert to NumPy array for plotting\n",
        "test_predictions = np.array(test_predictions)\n",
        "\n",
        "# Plot\n",
        "plt.plot(dates_test, test_predictions)\n",
        "plt.plot(dates_test, y_test)\n",
        "plt.legend(['Testing Predictions', 'Testing Observations'])"
      ],
      "metadata": {
        "id": "e2jJgmlvhj7r"
      },
      "execution_count": null,
      "outputs": []
    },
    {
      "cell_type": "code",
      "source": [
        "test_predictions = []\n",
        "input_data = X_test[0, :, 0]  # Start with the first 15 days of the test set\n",
        "\n",
        "# Observation Phase (First 15 Days)\n",
        "for i in range(15): #for the first 15 days\n",
        "  input_data_reshaped = input_data.reshape(1, input_data.shape[0], 1)\n",
        "  prediction = model.predict(input_data_reshaped)[0, 0]\n",
        "  test_predictions.append(prediction)\n",
        "\n",
        "  # Update with actual observation\n",
        "  input_data = np.roll(input_data, -1)\n",
        "  input_data[-1] = y_test[i]\n",
        "\n",
        "# Prediction Phase (Next 15 Days)\n",
        "for i in range(15, len(dates_test)):  # Start from day 16\n",
        "  input_data_reshaped = input_data.reshape(1, input_data.shape[0], 1)\n",
        "  prediction = model.predict(input_data_reshaped)[0, 0]\n",
        "  test_predictions.append(prediction)\n",
        "\n",
        "  # Update with prediction\n",
        "  input_data = np.roll(input_data, -1)\n",
        "  input_data[-1] = prediction\n",
        "\n",
        "# Convert to NumPy array for plotting\n",
        "test_predictions = np.array(test_predictions)\n",
        "\n",
        "# Plot\n",
        "plt.plot(dates_test, test_predictions)\n",
        "plt.plot(dates_test, y_test)\n",
        "plt.legend(['Testing Predictions', 'Testing Observations'])"
      ],
      "metadata": {
        "id": "2suv6qnHiHq_"
      },
      "execution_count": null,
      "outputs": []
    }
  ]
}